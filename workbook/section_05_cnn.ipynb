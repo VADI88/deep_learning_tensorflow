{
 "cells": [
  {
   "metadata": {},
   "cell_type": "markdown",
   "source": "## CNN ",
   "id": "644818ba39d29db9"
  },
  {
   "metadata": {
    "ExecuteTime": {
     "end_time": "2024-10-19T20:03:44.385836Z",
     "start_time": "2024-10-19T20:03:34.557380Z"
    }
   },
   "cell_type": "code",
   "source": [
    "import tensorflow as tf\n",
    "from tensorflow.keras.preprocessing.image import ImageDataGenerator"
   ],
   "id": "11e3201c7f736e78",
   "outputs": [
    {
     "name": "stderr",
     "output_type": "stream",
     "text": [
      "2024-10-19 22:03:34.635174: I tensorflow/core/platform/cpu_feature_guard.cc:182] This TensorFlow binary is optimized to use available CPU instructions in performance-critical operations.\n",
      "To enable the following instructions: SSE4.1 SSE4.2 AVX AVX2 FMA, in other operations, rebuild TensorFlow with the appropriate compiler flags.\n"
     ]
    }
   ],
   "execution_count": 1
  },
  {
   "metadata": {
    "ExecuteTime": {
     "end_time": "2024-10-19T20:03:44.439307Z",
     "start_time": "2024-10-19T20:03:44.422736Z"
    }
   },
   "cell_type": "code",
   "source": "tf.__version__",
   "id": "31cfbc7f9b7ead7f",
   "outputs": [
    {
     "data": {
      "text/plain": [
       "'2.12.0'"
      ]
     },
     "execution_count": 2,
     "metadata": {},
     "output_type": "execute_result"
    }
   ],
   "execution_count": 2
  },
  {
   "metadata": {},
   "cell_type": "markdown",
   "source": [
    "## Part 1 preprocessing \n",
    "### Preprocessing the Training set"
   ],
   "id": "c6673268f3b91d5"
  },
  {
   "metadata": {
    "ExecuteTime": {
     "end_time": "2024-10-19T20:03:45.266419Z",
     "start_time": "2024-10-19T20:03:44.621530Z"
    }
   },
   "cell_type": "code",
   "source": [
    "train_datagen = ImageDataGenerator(rescale = 1./255,\n",
    "                                   shear_range = 0.2,\n",
    "                                   zoom_range = 0.2,\n",
    "                                   horizontal_flip = True)\n",
    "training_set = train_datagen.flow_from_directory('../datasets/Deep Learning A-Z/Part 2 - Convolutional Neural Networks (CNN)/dataset/training_set',\n",
    "                                                 target_size = (64, 64),\n",
    "                                                 batch_size = 32,\n",
    "                                                 class_mode = 'binary')"
   ],
   "id": "86f703e6527cd9da",
   "outputs": [
    {
     "name": "stdout",
     "output_type": "stream",
     "text": [
      "Found 8000 images belonging to 2 classes.\n"
     ]
    }
   ],
   "execution_count": 3
  },
  {
   "metadata": {
    "ExecuteTime": {
     "end_time": "2024-10-19T20:03:45.447197Z",
     "start_time": "2024-10-19T20:03:45.298881Z"
    }
   },
   "cell_type": "code",
   "source": [
    "test_datagen = ImageDataGenerator(rescale = 1./255)\n",
    "test_set = test_datagen.flow_from_directory('../datasets/Deep Learning A-Z/Part 2 - Convolutional Neural Networks (CNN)/dataset/test_set',\n",
    "                                            target_size = (64, 64),\n",
    "                                            batch_size = 32,\n",
    "                                            class_mode = 'binary')"
   ],
   "id": "43e130a7eeb707db",
   "outputs": [
    {
     "name": "stdout",
     "output_type": "stream",
     "text": [
      "Found 2000 images belonging to 2 classes.\n"
     ]
    }
   ],
   "execution_count": 4
  },
  {
   "metadata": {},
   "cell_type": "markdown",
   "source": [
    "## Part 2 Building CNN\n",
    "### Initialising the CNN\n"
   ],
   "id": "f357563f2dc6b006"
  },
  {
   "metadata": {
    "ExecuteTime": {
     "end_time": "2024-10-19T20:03:45.516605Z",
     "start_time": "2024-10-19T20:03:45.473791Z"
    }
   },
   "cell_type": "code",
   "source": "cnn = tf.keras.models.Sequential()",
   "id": "6d9989f1842fac7d",
   "outputs": [],
   "execution_count": 5
  },
  {
   "metadata": {},
   "cell_type": "markdown",
   "source": "### Step 1 Convolution ",
   "id": "3e234fadfedab960"
  },
  {
   "metadata": {
    "ExecuteTime": {
     "end_time": "2024-10-19T20:03:45.650820Z",
     "start_time": "2024-10-19T20:03:45.529573Z"
    }
   },
   "cell_type": "code",
   "source": [
    "## LAYER1 \n",
    "cnn.add(tf.keras.layers.Conv2D(filters=32, kernel_size=3, activation='relu', input_shape=[64, 64, 3]))\n",
    "cnn.add(tf.keras.layers.MaxPool2D(pool_size=2,strides=3))\n",
    "## LAYER2 \n",
    "cnn.add(tf.keras.layers.Conv2D(filters=32, kernel_size=3, activation='relu'))\n",
    "cnn.add(tf.keras.layers.MaxPool2D(pool_size=2,strides=3))\n",
    "\n",
    "\n",
    "## FLATTENING \n",
    "\n",
    "cnn.add(tf.keras.layers.Flatten())\n",
    "\n",
    "## Full connect\n",
    "cnn.add(tf.keras.layers.Dense(units=128,activation='relu'))\n",
    "\n",
    "## Output layers \n",
    "cnn.add(tf.keras.layers.Dense(units = 1, activation='sigmoid'))\n",
    "\n"
   ],
   "id": "fbb9d00fb390de9e",
   "outputs": [],
   "execution_count": 6
  },
  {
   "metadata": {
    "ExecuteTime": {
     "end_time": "2024-10-19T20:03:46.319484Z",
     "start_time": "2024-10-19T20:03:46.298303Z"
    }
   },
   "cell_type": "code",
   "source": "cnn.compile(optimizer = 'adam', loss = 'binary_crossentropy', metrics = ['accuracy'])\n",
   "id": "84145789181ca477",
   "outputs": [],
   "execution_count": 7
  },
  {
   "metadata": {},
   "cell_type": "markdown",
   "source": "### TRAINING DATA ",
   "id": "39da6d2c11c5d7de"
  },
  {
   "metadata": {
    "ExecuteTime": {
     "end_time": "2024-10-19T20:25:29.478196Z",
     "start_time": "2024-10-19T20:03:47.827688Z"
    }
   },
   "cell_type": "code",
   "source": "cnn.fit(x = training_set, validation_data = test_set, epochs = 25)",
   "id": "e73d6e1a7dad6e8a",
   "outputs": [
    {
     "name": "stdout",
     "output_type": "stream",
     "text": [
      "Epoch 1/25\n"
     ]
    },
    {
     "name": "stderr",
     "output_type": "stream",
     "text": [
      "2024-10-19 22:03:48.090126: I tensorflow/core/common_runtime/executor.cc:1197] [/device:CPU:0] (DEBUG INFO) Executor start aborting (this does not indicate an error and you can ignore this message): INVALID_ARGUMENT: You must feed a value for placeholder tensor 'Placeholder/_0' with dtype int32\n",
      "\t [[{{node Placeholder/_0}}]]\n"
     ]
    },
    {
     "name": "stdout",
     "output_type": "stream",
     "text": [
      "250/250 [==============================] - ETA: 0s - loss: 0.6691 - accuracy: 0.5955"
     ]
    },
    {
     "name": "stderr",
     "output_type": "stream",
     "text": [
      "2024-10-19 22:04:34.794677: I tensorflow/core/common_runtime/executor.cc:1197] [/device:CPU:0] (DEBUG INFO) Executor start aborting (this does not indicate an error and you can ignore this message): INVALID_ARGUMENT: You must feed a value for placeholder tensor 'Placeholder/_0' with dtype int32\n",
      "\t [[{{node Placeholder/_0}}]]\n"
     ]
    },
    {
     "name": "stdout",
     "output_type": "stream",
     "text": [
      "250/250 [==============================] - 53s 206ms/step - loss: 0.6691 - accuracy: 0.5955 - val_loss: 0.7347 - val_accuracy: 0.5460\n",
      "Epoch 2/25\n",
      "250/250 [==============================] - 48s 191ms/step - loss: 0.6220 - accuracy: 0.6546 - val_loss: 0.6059 - val_accuracy: 0.6715\n",
      "Epoch 3/25\n",
      "250/250 [==============================] - 51s 206ms/step - loss: 0.5858 - accuracy: 0.6906 - val_loss: 0.6148 - val_accuracy: 0.6385\n",
      "Epoch 4/25\n",
      "250/250 [==============================] - 44s 176ms/step - loss: 0.5505 - accuracy: 0.7190 - val_loss: 0.5375 - val_accuracy: 0.7315\n",
      "Epoch 5/25\n",
      "250/250 [==============================] - 46s 185ms/step - loss: 0.5376 - accuracy: 0.7239 - val_loss: 0.5879 - val_accuracy: 0.6810\n",
      "Epoch 6/25\n",
      "250/250 [==============================] - 46s 185ms/step - loss: 0.5159 - accuracy: 0.7484 - val_loss: 0.5983 - val_accuracy: 0.6980\n",
      "Epoch 7/25\n",
      "250/250 [==============================] - 50s 198ms/step - loss: 0.4954 - accuracy: 0.7567 - val_loss: 0.5029 - val_accuracy: 0.7575\n",
      "Epoch 8/25\n",
      "250/250 [==============================] - 49s 198ms/step - loss: 0.4848 - accuracy: 0.7626 - val_loss: 0.5519 - val_accuracy: 0.7325\n",
      "Epoch 9/25\n",
      "250/250 [==============================] - 48s 192ms/step - loss: 0.4723 - accuracy: 0.7679 - val_loss: 0.5036 - val_accuracy: 0.7595\n",
      "Epoch 10/25\n",
      "250/250 [==============================] - 43s 174ms/step - loss: 0.4632 - accuracy: 0.7801 - val_loss: 0.5227 - val_accuracy: 0.7430\n",
      "Epoch 11/25\n",
      "250/250 [==============================] - 49s 197ms/step - loss: 0.4514 - accuracy: 0.7860 - val_loss: 0.4626 - val_accuracy: 0.7820\n",
      "Epoch 12/25\n",
      "250/250 [==============================] - 48s 193ms/step - loss: 0.4441 - accuracy: 0.7889 - val_loss: 0.4573 - val_accuracy: 0.7910\n",
      "Epoch 13/25\n",
      "250/250 [==============================] - 45s 181ms/step - loss: 0.4289 - accuracy: 0.8002 - val_loss: 0.5032 - val_accuracy: 0.7620\n",
      "Epoch 14/25\n",
      "250/250 [==============================] - 45s 179ms/step - loss: 0.4148 - accuracy: 0.8039 - val_loss: 0.4759 - val_accuracy: 0.8010\n",
      "Epoch 15/25\n",
      "250/250 [==============================] - 50s 201ms/step - loss: 0.4147 - accuracy: 0.8059 - val_loss: 0.4554 - val_accuracy: 0.8050\n",
      "Epoch 16/25\n",
      "250/250 [==============================] - 50s 198ms/step - loss: 0.4086 - accuracy: 0.8159 - val_loss: 0.4790 - val_accuracy: 0.7865\n",
      "Epoch 17/25\n",
      "250/250 [==============================] - 49s 196ms/step - loss: 0.3974 - accuracy: 0.8185 - val_loss: 0.4734 - val_accuracy: 0.7955\n",
      "Epoch 18/25\n",
      "250/250 [==============================] - 54s 215ms/step - loss: 0.3879 - accuracy: 0.8244 - val_loss: 0.4868 - val_accuracy: 0.7985\n",
      "Epoch 19/25\n",
      "250/250 [==============================] - 59s 238ms/step - loss: 0.3781 - accuracy: 0.8292 - val_loss: 0.4567 - val_accuracy: 0.7900\n",
      "Epoch 20/25\n",
      "250/250 [==============================] - 65s 259ms/step - loss: 0.3699 - accuracy: 0.8319 - val_loss: 0.4731 - val_accuracy: 0.7990\n",
      "Epoch 21/25\n",
      "250/250 [==============================] - 62s 249ms/step - loss: 0.3647 - accuracy: 0.8382 - val_loss: 0.4683 - val_accuracy: 0.8035\n",
      "Epoch 22/25\n",
      "250/250 [==============================] - 56s 225ms/step - loss: 0.3562 - accuracy: 0.8411 - val_loss: 0.4596 - val_accuracy: 0.7995\n",
      "Epoch 23/25\n",
      "250/250 [==============================] - 58s 233ms/step - loss: 0.3510 - accuracy: 0.8459 - val_loss: 0.4789 - val_accuracy: 0.7890\n",
      "Epoch 24/25\n",
      "250/250 [==============================] - 44s 176ms/step - loss: 0.3376 - accuracy: 0.8514 - val_loss: 0.4654 - val_accuracy: 0.7965\n",
      "Epoch 25/25\n",
      "250/250 [==============================] - 49s 195ms/step - loss: 0.3374 - accuracy: 0.8535 - val_loss: 0.4892 - val_accuracy: 0.7970\n"
     ]
    },
    {
     "data": {
      "text/plain": [
       "<keras.callbacks.History at 0x13493a850>"
      ]
     },
     "execution_count": 8,
     "metadata": {},
     "output_type": "execute_result"
    }
   ],
   "execution_count": 8
  },
  {
   "metadata": {
    "ExecuteTime": {
     "end_time": "2024-10-19T20:27:17.809207Z",
     "start_time": "2024-10-19T20:27:17.766667Z"
    }
   },
   "cell_type": "code",
   "source": "cnn.summary()",
   "id": "a1f3a2c5c89e1a52",
   "outputs": [
    {
     "name": "stdout",
     "output_type": "stream",
     "text": [
      "Model: \"sequential\"\n",
      "_________________________________________________________________\n",
      " Layer (type)                Output Shape              Param #   \n",
      "=================================================================\n",
      " conv2d (Conv2D)             (None, 62, 62, 32)        896       \n",
      "                                                                 \n",
      " max_pooling2d (MaxPooling2D  (None, 21, 21, 32)       0         \n",
      " )                                                               \n",
      "                                                                 \n",
      " conv2d_1 (Conv2D)           (None, 19, 19, 32)        9248      \n",
      "                                                                 \n",
      " max_pooling2d_1 (MaxPooling  (None, 6, 6, 32)         0         \n",
      " 2D)                                                             \n",
      "                                                                 \n",
      " flatten (Flatten)           (None, 1152)              0         \n",
      "                                                                 \n",
      " dense (Dense)               (None, 128)               147584    \n",
      "                                                                 \n",
      " dense_1 (Dense)             (None, 1)                 129       \n",
      "                                                                 \n",
      "=================================================================\n",
      "Total params: 157,857\n",
      "Trainable params: 157,857\n",
      "Non-trainable params: 0\n",
      "_________________________________________________________________\n"
     ]
    }
   ],
   "execution_count": 17
  },
  {
   "metadata": {
    "ExecuteTime": {
     "end_time": "2024-10-19T20:25:31.487060Z",
     "start_time": "2024-10-19T20:25:31.480982Z"
    }
   },
   "cell_type": "code",
   "source": "print(\"Finished compling\")",
   "id": "b38ea7e7322e6578",
   "outputs": [
    {
     "name": "stdout",
     "output_type": "stream",
     "text": [
      "Finished compling\n"
     ]
    }
   ],
   "execution_count": 11
  },
  {
   "metadata": {
    "ExecuteTime": {
     "end_time": "2024-10-19T20:26:42.553585Z",
     "start_time": "2024-10-19T20:26:42.405958Z"
    }
   },
   "cell_type": "code",
   "source": [
    "import numpy as np\n",
    "from tensorflow.keras.preprocessing import image\n",
    "test_image = image.load_img('../datasets/Deep Learning A-Z/Part 2 - Convolutional Neural Networks (CNN)/dataset/single_prediction/cat_or_dog_2.jpg', target_size = (64, 64))\n",
    "test_image = image.img_to_array(test_image)\n",
    "test_image = np.expand_dims(test_image, axis = 0)#adding the extra dims ==> batch size (input)\n",
    "result = cnn.predict(test_image)\n",
    "training_set.class_indices ## {'cats': 0, 'dogs': 1}\n",
    "if result[0][0] == 1:\n",
    "  prediction = 'dog'\n",
    "else:\n",
    "  prediction = 'cat'"
   ],
   "id": "30894c10414b7b00",
   "outputs": [
    {
     "name": "stdout",
     "output_type": "stream",
     "text": [
      "1/1 [==============================] - 0s 24ms/step\n"
     ]
    }
   ],
   "execution_count": 14
  },
  {
   "metadata": {
    "ExecuteTime": {
     "end_time": "2024-10-19T20:26:43.244196Z",
     "start_time": "2024-10-19T20:26:43.238196Z"
    }
   },
   "cell_type": "code",
   "source": "",
   "id": "91008594985208ff",
   "outputs": [
    {
     "data": {
      "text/plain": [
       "'cat'"
      ]
     },
     "execution_count": 15,
     "metadata": {},
     "output_type": "execute_result"
    }
   ],
   "execution_count": 15
  },
  {
   "metadata": {
    "ExecuteTime": {
     "end_time": "2024-10-19T20:34:16.205650Z",
     "start_time": "2024-10-19T20:34:16.141161Z"
    }
   },
   "cell_type": "code",
   "source": "training_set.class_indices",
   "id": "d7ccac6ad4cfc8f2",
   "outputs": [
    {
     "data": {
      "text/plain": [
       "{'cats': 0, 'dogs': 1}"
      ]
     },
     "execution_count": 18,
     "metadata": {},
     "output_type": "execute_result"
    }
   ],
   "execution_count": 18
  },
  {
   "metadata": {},
   "cell_type": "code",
   "outputs": [],
   "execution_count": null,
   "source": "",
   "id": "5e2d0dc885ccd77d"
  }
 ],
 "metadata": {
  "kernelspec": {
   "display_name": "Python 3",
   "language": "python",
   "name": "python3"
  },
  "language_info": {
   "codemirror_mode": {
    "name": "ipython",
    "version": 2
   },
   "file_extension": ".py",
   "mimetype": "text/x-python",
   "name": "python",
   "nbconvert_exporter": "python",
   "pygments_lexer": "ipython2",
   "version": "2.7.6"
  }
 },
 "nbformat": 4,
 "nbformat_minor": 5
}
